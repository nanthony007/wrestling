{
 "cells": [
  {
   "cell_type": "markdown",
   "metadata": {},
   "source": [
    "# START"
   ]
  },
  {
   "cell_type": "code",
   "execution_count": 5,
   "metadata": {
    "ExecuteTime": {
     "end_time": "2020-07-24T18:10:30.855709Z",
     "start_time": "2020-07-24T18:10:30.658806Z"
    },
    "scrolled": true
   },
   "outputs": [],
   "source": [
    "import pickle\n",
    "from collections import Counter\n",
    "from datetime import time, datetime\n",
    "\n",
    "from tqdm import tqdm \n",
    "\n",
    "import attr\n",
    "import pandas as pd\n",
    "\n",
    "from pprint import pprint\n",
    "\n",
    "import wrestling\n",
    "from wrestling.base import Mark"
   ]
  },
  {
   "cell_type": "markdown",
   "metadata": {},
   "source": [
    "This notebook is for exploring the data stored in the pickle files to uncover trends needed in parsing."
   ]
  },
  {
   "cell_type": "markdown",
   "metadata": {},
   "source": [
    "## Events Section"
   ]
  },
  {
   "cell_type": "code",
   "execution_count": null,
   "metadata": {
    "ExecuteTime": {
     "end_time": "2020-07-24T14:52:59.979793Z",
     "start_time": "2020-07-24T14:52:59.916555Z"
    },
    "scrolled": false
   },
   "outputs": [],
   "source": [
    "# exploring events\n",
    "with open('all_events.p', 'rb') as f:\n",
    "    events = pickle.load(f) \n",
    "print(len(events))"
   ]
  },
  {
   "cell_type": "code",
   "execution_count": null,
   "metadata": {
    "ExecuteTime": {
     "end_time": "2020-07-24T14:53:01.256899Z",
     "start_time": "2020-07-24T14:53:01.044664Z"
    }
   },
   "outputs": [],
   "source": [
    "ALLEVENTS = []\n",
    "for event in events:\n",
    "    e = wrestling.Event(\n",
    "        name=event['name'],\n",
    "        kind=Mark(event['kind'])\n",
    "    )\n",
    "    ALLEVENTS.append(e)\n",
    "    \n",
    "ALLEVENTS[0]"
   ]
  },
  {
   "cell_type": "code",
   "execution_count": null,
   "metadata": {
    "ExecuteTime": {
     "end_time": "2020-07-24T14:53:02.345319Z",
     "start_time": "2020-07-24T14:53:02.340512Z"
    }
   },
   "outputs": [],
   "source": [
    "ALLEVENTS[0].to_dict()"
   ]
  },
  {
   "cell_type": "code",
   "execution_count": null,
   "metadata": {
    "ExecuteTime": {
     "end_time": "2020-07-24T14:53:03.315393Z",
     "start_time": "2020-07-24T14:53:03.290997Z"
    }
   },
   "outputs": [],
   "source": [
    "Counter([e.kind for e in ALLEVENTS]).most_common()"
   ]
  },
  {
   "cell_type": "code",
   "execution_count": null,
   "metadata": {
    "ExecuteTime": {
     "end_time": "2020-07-24T14:53:03.984262Z",
     "start_time": "2020-07-24T14:53:03.976952Z"
    }
   },
   "outputs": [],
   "source": [
    "del events"
   ]
  },
  {
   "cell_type": "markdown",
   "metadata": {},
   "source": [
    "### Events finished!  :)"
   ]
  },
  {
   "cell_type": "markdown",
   "metadata": {},
   "source": [
    "## Roster Section"
   ]
  },
  {
   "cell_type": "code",
   "execution_count": null,
   "metadata": {
    "ExecuteTime": {
     "end_time": "2020-07-24T14:53:06.876628Z",
     "start_time": "2020-07-24T14:53:06.804137Z"
    },
    "scrolled": true
   },
   "outputs": [],
   "source": [
    "with open('all_rosters.p', 'rb') as f:\n",
    "    rosters = pickle.load(f)\n",
    "print(len(rosters))"
   ]
  },
  {
   "cell_type": "code",
   "execution_count": null,
   "metadata": {
    "ExecuteTime": {
     "end_time": "2020-07-24T14:53:07.494633Z",
     "start_time": "2020-07-24T14:53:07.489716Z"
    }
   },
   "outputs": [],
   "source": [
    "rosters[0]"
   ]
  },
  {
   "cell_type": "code",
   "execution_count": null,
   "metadata": {
    "ExecuteTime": {
     "end_time": "2020-07-24T14:53:08.964778Z",
     "start_time": "2020-07-24T14:53:08.558387Z"
    }
   },
   "outputs": [],
   "source": [
    "ALLWRESTLERS = []\n",
    "for wrestler in rosters:\n",
    "    w = wrestling.Wrestler(\n",
    "        name=wrestler['name'],\n",
    "        team='PLACEHOLDER', \n",
    "        grade=Mark(wrestler['grade'])\n",
    "    )\n",
    "    ALLWRESTLERS.append(w)\n",
    "    \n",
    "ALLWRESTLERS[0]"
   ]
  },
  {
   "cell_type": "code",
   "execution_count": null,
   "metadata": {
    "ExecuteTime": {
     "end_time": "2020-07-24T14:53:09.853884Z",
     "start_time": "2020-07-24T14:53:09.849051Z"
    }
   },
   "outputs": [],
   "source": [
    "ALLWRESTLERS[0].to_dict()"
   ]
  },
  {
   "cell_type": "code",
   "execution_count": null,
   "metadata": {
    "ExecuteTime": {
     "end_time": "2020-07-24T14:53:13.419651Z",
     "start_time": "2020-07-24T14:53:13.393985Z"
    }
   },
   "outputs": [],
   "source": [
    "Counter([w.grade for w in ALLWRESTLERS if w._grade.isvalid]).most_common()"
   ]
  },
  {
   "cell_type": "code",
   "execution_count": null,
   "metadata": {
    "ExecuteTime": {
     "end_time": "2020-07-24T14:53:17.326975Z",
     "start_time": "2020-07-24T14:53:17.317060Z"
    },
    "scrolled": true
   },
   "outputs": [],
   "source": [
    "del rosters"
   ]
  },
  {
   "cell_type": "markdown",
   "metadata": {},
   "source": [
    "### Rosters finished! :)"
   ]
  },
  {
   "cell_type": "markdown",
   "metadata": {},
   "source": [
    "## Matches Section"
   ]
  },
  {
   "cell_type": "code",
   "execution_count": 6,
   "metadata": {
    "ExecuteTime": {
     "end_time": "2020-07-24T18:10:34.367419Z",
     "start_time": "2020-07-24T18:10:33.162227Z"
    },
    "scrolled": false
   },
   "outputs": [
    {
     "name": "stdout",
     "output_type": "stream",
     "text": [
      "815758\n"
     ]
    }
   ],
   "source": [
    "with open('all_matches.p', 'rb') as f:\n",
    "    matches = pickle.load(f)\n",
    "print(len(matches))"
   ]
  },
  {
   "cell_type": "code",
   "execution_count": 9,
   "metadata": {
    "ExecuteTime": {
     "end_time": "2020-07-24T18:11:13.062031Z",
     "start_time": "2020-07-24T18:11:12.787621Z"
    }
   },
   "outputs": [
    {
     "data": {
      "text/plain": [
       "Counter({'Decision': 214926,\n",
       "         'Tech': 25422,\n",
       "         'Maj': 57025,\n",
       "         'Fall': 430649,\n",
       "         'Forfeit': 73630,\n",
       "         'Default': 10482,\n",
       "         'Double': 2635,\n",
       "         'Disq': 810,\n",
       "         'Dec': 170,\n",
       "         'Decision:': 5,\n",
       "         'default': 1,\n",
       "         'forfeit': 2,\n",
       "         'DEFAULT': 1})"
      ]
     },
     "execution_count": 9,
     "metadata": {},
     "output_type": "execute_result"
    }
   ],
   "source": [
    "Counter([m['result'].split()[0] for m in matches])"
   ]
  },
  {
   "cell_type": "code",
   "execution_count": null,
   "metadata": {
    "ExecuteTime": {
     "end_time": "2020-07-24T14:53:37.879065Z",
     "start_time": "2020-07-24T14:53:37.740429Z"
    }
   },
   "outputs": [],
   "source": [
    "Counter([m['level'] for m in matches]).most_common()"
   ]
  },
  {
   "cell_type": "code",
   "execution_count": 17,
   "metadata": {
    "ExecuteTime": {
     "end_time": "2020-07-24T15:25:41.266524Z",
     "start_time": "2020-07-24T15:25:41.261966Z"
    },
    "scrolled": true
   },
   "outputs": [
    {
     "data": {
      "text/plain": [
       "{'id': '1567603412:2019-2020:0:1576851265.755613:1567603412.1838334878321:2019-12-20 14:16:56 +0000',\n",
       " 'date': '2019-12-20',\n",
       " 'weight': '132',\n",
       " 'scoring_events': '1*11*0*T2*Green#2*0*0*R2*Red#2*30*0*P1*Red#2*50*0*N2*Red#5*17*0*R2*Green#5*17*0*P1*Green#5*48*0*P1*Red#6*9*0*E1*Red',\n",
       " 'winner': 1,\n",
       " 'result': 'Decision 7-5',\n",
       " 'red_wrestler': '1567603412.1838334878321#Ivy, Tre#(null)#Ada#(null)',\n",
       " 'green_wrestler': '(null)#Doe, John#(null)#Niceville#(null)#',\n",
       " 'level': 'High School Boys'}"
      ]
     },
     "execution_count": 17,
     "metadata": {},
     "output_type": "execute_result"
    }
   ],
   "source": [
    "matches[1000]"
   ]
  },
  {
   "cell_type": "markdown",
   "metadata": {},
   "source": [
    "### TimeSeries first"
   ]
  },
  {
   "cell_type": "code",
   "execution_count": 3,
   "metadata": {
    "ExecuteTime": {
     "end_time": "2020-07-24T15:32:53.734458Z",
     "start_time": "2020-07-24T15:32:53.728257Z"
    }
   },
   "outputs": [],
   "source": [
    "# proprietary function\n",
    "def parse_api_scoring_events(event_string):\n",
    "    main_list = []\n",
    "    for action in event_string.split('#'):\n",
    "        if len(action.split('*')) == 1 or action == '****':\n",
    "            continue\n",
    "        A = action.split('*')\n",
    "        if not A[0].isdigit() or int(A[0]) not in range(0, 60):\n",
    "            minute = 0\n",
    "        else:\n",
    "            minute = int(A[0])\n",
    "        if not A[1].isdigit() or int(A[1]) not in range(0, 60):\n",
    "            second = 0\n",
    "        else:\n",
    "            second = int(A[1])\n",
    "        period = int(A[2]) + 1 if A[2] else 0\n",
    "        label = A[3]\n",
    "        color = A[4].lower() if A[4] in {'Red', 'Green'} else 'green'\n",
    "        main_list.append((minute, second, period, label, color))\n",
    "    return tuple(main_list)"
   ]
  },
  {
   "cell_type": "code",
   "execution_count": null,
   "metadata": {
    "ExecuteTime": {
     "end_time": "2020-07-24T14:57:25.269685Z",
     "start_time": "2020-07-24T14:57:25.263191Z"
    },
    "scrolled": false
   },
   "outputs": [],
   "source": [
    "parse_api_scoring_events(matches[1000]['scoring_events'])"
   ]
  },
  {
   "cell_type": "code",
   "execution_count": 6,
   "metadata": {
    "ExecuteTime": {
     "end_time": "2020-07-24T15:09:13.681633Z",
     "start_time": "2020-07-24T15:09:07.475888Z"
    }
   },
   "outputs": [
    {
     "data": {
      "text/plain": [
       "4823676"
      ]
     },
     "execution_count": 6,
     "metadata": {},
     "output_type": "execute_result"
    }
   ],
   "source": [
    "MASTER = []\n",
    "for match in matches:\n",
    "    for y in match['scoring_events'].split('#'):\n",
    "        MASTER.append(y.split('*'))\n",
    "len(MASTER)"
   ]
  },
  {
   "cell_type": "code",
   "execution_count": 7,
   "metadata": {
    "ExecuteTime": {
     "end_time": "2020-07-24T15:09:51.220193Z",
     "start_time": "2020-07-24T15:09:51.216145Z"
    }
   },
   "outputs": [
    {
     "data": {
      "text/plain": [
       "['5', '52', '2', 'E1', 'Red']"
      ]
     },
     "execution_count": 7,
     "metadata": {},
     "output_type": "execute_result"
    }
   ],
   "source": [
    "MASTER[801]"
   ]
  },
  {
   "cell_type": "code",
   "execution_count": 9,
   "metadata": {
    "ExecuteTime": {
     "end_time": "2020-07-24T15:11:05.990434Z",
     "start_time": "2020-07-24T15:11:05.226161Z"
    },
    "scrolled": true
   },
   "outputs": [
    {
     "data": {
      "text/plain": [
       "[('0', 1937167),\n",
       " ('1', 1762223),\n",
       " ('2', 1072160),\n",
       " ('3', 10782),\n",
       " ('4', 5957),\n",
       " ('5', 4689),\n",
       " ('6', 1321),\n",
       " ('', 514),\n",
       " ('7', 123),\n",
       " ('8', 97),\n",
       " ('9', 5),\n",
       " ('10', 2),\n",
       " ('11', 2)]"
      ]
     },
     "execution_count": 9,
     "metadata": {},
     "output_type": "execute_result"
    }
   ],
   "source": [
    "Counter(x[2] for x in MASTER if len(x) == 5).most_common()"
   ]
  },
  {
   "cell_type": "code",
   "execution_count": 12,
   "metadata": {
    "ExecuteTime": {
     "end_time": "2020-07-24T15:13:48.462567Z",
     "start_time": "2020-07-24T15:12:49.052140Z"
    },
    "scrolled": false
   },
   "outputs": [
    {
     "name": "stderr",
     "output_type": "stream",
     "text": [
      "100%|██████████| 815758/815758 [00:59<00:00, 13802.93it/s]\n"
     ]
    }
   ],
   "source": [
    "ALLTIMESERIES = []\n",
    "\n",
    "for match in tqdm(matches):\n",
    "    ts_gen = parse_api_scoring_events(match['scoring_events'])\n",
    "    for action in ts_gen:\n",
    "        if match['level'].startswith('High School'):\n",
    "            # todo: compare to ourWrestlerID instead of 'isdigit'\n",
    "            if match['red_wrestler'][0].isdigit():\n",
    "                focus = 'red'\n",
    "            elif match['green_wrestler'][0].isdigit():\n",
    "                focus = 'green'\n",
    "            else:\n",
    "                continue\n",
    "            sc = wrestling.HSScoring(\n",
    "                initiator=action[4],\n",
    "                focus_color=focus,\n",
    "                period=action[2],\n",
    "                time_stamp=time(minute=action[0], second=action[1]),\n",
    "                label=wrestling.base.HSLabel(action[3]),\n",
    "            )\n",
    "\n",
    "        elif match['level'].startswith('College'):\n",
    "            if match['red_wrestler'][0].isdigit():\n",
    "                focus = 'red'\n",
    "            elif match['green_wrestler'][0].isdigit():\n",
    "                focus = 'green'\n",
    "            else:\n",
    "                continue\n",
    "            sc = wrestling.CollegeScoring(\n",
    "                initiator=action[4],\n",
    "                focus_color=focus,\n",
    "                period=action[2],\n",
    "                time_stamp=time(minute=action[0], second=action[1]),\n",
    "                label=wrestling.base.CollegeLabel(action[3]),\n",
    "            )\n",
    "        ALLTIMESERIES.append(sc)\n",
    "\n",
    "ALLTIMESERIES[0]"
   ]
  },
  {
   "cell_type": "code",
   "execution_count": 14,
   "metadata": {
    "ExecuteTime": {
     "end_time": "2020-07-24T15:19:13.698629Z",
     "start_time": "2020-07-24T15:19:13.690053Z"
    },
    "scrolled": true
   },
   "outputs": [
    {
     "data": {
      "text/plain": [
       "{'time': '00:20',\n",
       " 'period': 1,\n",
       " 'str_label': 'fT2',\n",
       " 'label': HSLabel(tag='T2', isvalid=True)}"
      ]
     },
     "execution_count": 14,
     "metadata": {},
     "output_type": "execute_result"
    }
   ],
   "source": [
    "ALLTIMESERIES[0].to_dict()"
   ]
  },
  {
   "cell_type": "code",
   "execution_count": 15,
   "metadata": {
    "ExecuteTime": {
     "end_time": "2020-07-24T15:20:19.279809Z",
     "start_time": "2020-07-24T15:20:19.276018Z"
    }
   },
   "outputs": [],
   "source": [
    "del ALLTIMESERIESSERIES"
   ]
  },
  {
   "cell_type": "markdown",
   "metadata": {},
   "source": [
    "### Scoring Events done!\n",
    "Use above code and just add in match creation!"
   ]
  },
  {
   "cell_type": "markdown",
   "metadata": {},
   "source": [
    "### Matches Section combining everything together"
   ]
  },
  {
   "cell_type": "code",
   "execution_count": 4,
   "metadata": {
    "ExecuteTime": {
     "end_time": "2020-07-24T15:37:23.641981Z",
     "start_time": "2020-07-24T15:35:43.612075Z"
    },
    "scrolled": true
   },
   "outputs": [
    {
     "name": "stderr",
     "output_type": "stream",
     "text": [
      "100%|██████████| 815758/815758 [01:39<00:00, 8158.05it/s] \n"
     ]
    }
   ],
   "source": [
    "ALLMATCHES = []\n",
    "\n",
    "for match in tqdm(matches):\n",
    "    if match['level'].startswith('High School'):\n",
    "        # todo: compare to ourWrestlerID instead of 'isdigit'\n",
    "        if match['red_wrestler'][0].isdigit():   # can modularize this\n",
    "            focus = 'red'\n",
    "        elif match['green_wrestler'][0].isdigit():\n",
    "            focus = 'green'\n",
    "        else:\n",
    "            continue\n",
    "        # create ts\n",
    "        ts_gen = parse_api_scoring_events(match['scoring_events'])  # modularize\n",
    "        ts_list = []\n",
    "        for action in ts_gen:\n",
    "            sc = wrestling.HSScoring(\n",
    "                initiator=action[4],\n",
    "                focus_color=focus,\n",
    "                period=action[2],\n",
    "                time_stamp=time(minute=action[0], second=action[1]),\n",
    "                label=wrestling.base.HSLabel(action[3]),\n",
    "            )\n",
    "            ts_list.append(sc)\n",
    "        TS = tuple(sorted(ts_list))\n",
    "        m = wrestling.HSMatch(\n",
    "            id=match['id'],\n",
    "            event=wrestling.Event(\n",
    "                name='Testing',\n",
    "                kind=wrestling.base.Mark('Tournament'),\n",
    "            ),\n",
    "            date=datetime.now(),  # need date parser here\n",
    "            result=wrestling.base.Result.WD,  # need result parser here\n",
    "            focus=wrestling.Wrestler(  # need to link to established roster here\n",
    "                name='Anthony, Nick',\n",
    "                team='Eagles',\n",
    "                grade=wrestling.base.Mark('RS Sr.')\n",
    "            ),\n",
    "            opponent=wrestling.Wrestler(\n",
    "                name='Duong, Michelle',\n",
    "                team='Hawks',\n",
    "                grade=wrestling.base.Mark('RS Sr')\n",
    "            ),\n",
    "            weight=wrestling.base.Mark(match['weight']),\n",
    "            time_series=TS,  # can modularize all the work we did for this field\n",
    "        )\n",
    "        ALLMATCHES.append(m)\n",
    "    elif match['level'].startswith('College'):\n",
    "        if match['red_wrestler'][0].isdigit():\n",
    "            focus = 'red'\n",
    "        elif match['green_wrestler'][0].isdigit():\n",
    "            focus = 'green'\n",
    "        else:\n",
    "            continue\n",
    "        ts_gen = parse_api_scoring_events(match['scoring_events'])\n",
    "        ts_list = []\n",
    "        for action in ts_gen:\n",
    "            sc = wrestling.CollegeScoring(\n",
    "                initiator=action[4],\n",
    "                focus_color=focus,\n",
    "                period=action[2],\n",
    "                time_stamp=time(minute=action[0], second=action[1]),\n",
    "                label=wrestling.base.CollegeLabel(action[3]),\n",
    "            )\n",
    "            ts_list.append(sc)\n",
    "        TS = tuple(sorted(ts_list))\n",
    "        m = wrestling.CollegeMatch(\n",
    "            id=match['id'],\n",
    "            event=wrestling.Event(\n",
    "                name='Testing',\n",
    "                kind=wrestling.base.Mark('Dual Meet'),\n",
    "            ),\n",
    "            date=datetime.now(),\n",
    "            result=wrestling.base.Result.LT,\n",
    "            focus=wrestling.Wrestler(\n",
    "                name='Vicic, Kingsley',\n",
    "                team='Eagles',\n",
    "                grade=wrestling.base.Mark('RS Sr.')\n",
    "            ),\n",
    "            opponent=wrestling.Wrestler(\n",
    "                name='Ironman, Timothy',\n",
    "                team='Hawks',\n",
    "                grade=wrestling.base.Mark('RS Sr')\n",
    "            ),\n",
    "            weight=wrestling.base.Mark(match['weight']),\n",
    "            time_series=TS,\n",
    "        )\n",
    "        ALLMATCHES.append(m)\n",
    "        \n",
    "ALLMATCHES[1000]"
   ]
  },
  {
   "cell_type": "code",
   "execution_count": 9,
   "metadata": {
    "ExecuteTime": {
     "end_time": "2020-07-24T15:40:44.927679Z",
     "start_time": "2020-07-24T15:40:44.922572Z"
    }
   },
   "outputs": [
    {
     "data": {
      "text/plain": [
       "True"
      ]
     },
     "execution_count": 9,
     "metadata": {},
     "output_type": "execute_result"
    }
   ],
   "source": [
    "ALLMATCHES[1000].event._kind.isvalid"
   ]
  },
  {
   "cell_type": "code",
   "execution_count": 11,
   "metadata": {
    "ExecuteTime": {
     "end_time": "2020-07-24T15:41:48.105041Z",
     "start_time": "2020-07-24T15:41:48.093490Z"
    }
   },
   "outputs": [
    {
     "ename": "AttributeError",
     "evalue": "'HSMatch' object has no attribute 'date_'",
     "output_type": "error",
     "traceback": [
      "\u001b[0;31m---------------------------------------------------------------------------\u001b[0m",
      "\u001b[0;31mAttributeError\u001b[0m                            Traceback (most recent call last)",
      "\u001b[0;32m<ipython-input-11-03f7cc566e33>\u001b[0m in \u001b[0;36m<module>\u001b[0;34m\u001b[0m\n\u001b[0;32m----> 1\u001b[0;31m \u001b[0mALLMATCHES\u001b[0m\u001b[0;34m[\u001b[0m\u001b[0;36m1000\u001b[0m\u001b[0;34m]\u001b[0m\u001b[0;34m.\u001b[0m\u001b[0mto_dict\u001b[0m\u001b[0;34m(\u001b[0m\u001b[0;34m)\u001b[0m\u001b[0;34m\u001b[0m\u001b[0;34m\u001b[0m\u001b[0m\n\u001b[0m",
      "\u001b[0;32m~/PycharmProjects/wrestling/wrestling/matches.py\u001b[0m in \u001b[0;36mto_dict\u001b[0;34m(self, ts_only, results_only)\u001b[0m\n\u001b[1;32m    139\u001b[0m                 \u001b[0mevent_name\u001b[0m\u001b[0;34m=\u001b[0m\u001b[0mgetattr\u001b[0m\u001b[0;34m(\u001b[0m\u001b[0mself\u001b[0m\u001b[0;34m,\u001b[0m \u001b[0;34m\"event\"\u001b[0m\u001b[0;34m)\u001b[0m\u001b[0;34m.\u001b[0m\u001b[0mname\u001b[0m\u001b[0;34m,\u001b[0m\u001b[0;34m\u001b[0m\u001b[0;34m\u001b[0m\u001b[0m\n\u001b[1;32m    140\u001b[0m                 \u001b[0mevent_type\u001b[0m\u001b[0;34m=\u001b[0m\u001b[0mgetattr\u001b[0m\u001b[0;34m(\u001b[0m\u001b[0mself\u001b[0m\u001b[0;34m,\u001b[0m \u001b[0;34m\"event\"\u001b[0m\u001b[0;34m)\u001b[0m\u001b[0;34m.\u001b[0m\u001b[0mkind\u001b[0m\u001b[0;34m,\u001b[0m\u001b[0;34m\u001b[0m\u001b[0;34m\u001b[0m\u001b[0m\n\u001b[0;32m--> 141\u001b[0;31m                 \u001b[0mdate\u001b[0m\u001b[0;34m=\u001b[0m\u001b[0mdatetime\u001b[0m\u001b[0;34m.\u001b[0m\u001b[0mstrftime\u001b[0m\u001b[0;34m(\u001b[0m\u001b[0mgetattr\u001b[0m\u001b[0;34m(\u001b[0m\u001b[0mself\u001b[0m\u001b[0;34m,\u001b[0m \u001b[0;34m\"date_\"\u001b[0m\u001b[0;34m)\u001b[0m\u001b[0;34m,\u001b[0m \u001b[0;34m\"%Y-%m-%d %H:%M:%S\"\u001b[0m\u001b[0;34m)\u001b[0m\u001b[0;34m,\u001b[0m\u001b[0;34m\u001b[0m\u001b[0;34m\u001b[0m\u001b[0m\n\u001b[0m\u001b[1;32m    142\u001b[0m                 \u001b[0mtext_result\u001b[0m\u001b[0;34m=\u001b[0m\u001b[0mgetattr\u001b[0m\u001b[0;34m(\u001b[0m\u001b[0mself\u001b[0m\u001b[0;34m,\u001b[0m \u001b[0;34m\"result\"\u001b[0m\u001b[0;34m)\u001b[0m\u001b[0;34m.\u001b[0m\u001b[0mtext\u001b[0m\u001b[0;34m,\u001b[0m\u001b[0;34m\u001b[0m\u001b[0;34m\u001b[0m\u001b[0m\n\u001b[1;32m    143\u001b[0m                 \u001b[0mnum_result\u001b[0m\u001b[0;34m=\u001b[0m\u001b[0mgetattr\u001b[0m\u001b[0;34m(\u001b[0m\u001b[0mself\u001b[0m\u001b[0;34m,\u001b[0m \u001b[0;34m\"result\"\u001b[0m\u001b[0;34m)\u001b[0m\u001b[0;34m.\u001b[0m\u001b[0mvalue\u001b[0m\u001b[0;34m,\u001b[0m\u001b[0;34m\u001b[0m\u001b[0;34m\u001b[0m\u001b[0m\n",
      "\u001b[0;31mAttributeError\u001b[0m: 'HSMatch' object has no attribute 'date_'"
     ]
    }
   ],
   "source": [
    "ALLMATCHES[1000].to_dict()"
   ]
  },
  {
   "cell_type": "code",
   "execution_count": 12,
   "metadata": {
    "ExecuteTime": {
     "end_time": "2020-07-24T15:42:20.235581Z",
     "start_time": "2020-07-24T15:42:20.221597Z"
    }
   },
   "outputs": [
    {
     "data": {
      "text/plain": [
       "({'time': '00:52',\n",
       "  'period': 1,\n",
       "  'str_label': 'fT2',\n",
       "  'label': HSLabel(tag='T2', isvalid=True),\n",
       "  'focus_name': 'Anthony, Nick',\n",
       "  'opp_name': 'Duong, Michelle',\n",
       "  'event_name': 'Testing'},\n",
       " {'time': '01:28',\n",
       "  'period': 1,\n",
       "  'str_label': 'oE1',\n",
       "  'label': HSLabel(tag='E1', isvalid=True),\n",
       "  'focus_name': 'Anthony, Nick',\n",
       "  'opp_name': 'Duong, Michelle',\n",
       "  'event_name': 'Testing'},\n",
       " {'time': '01:44',\n",
       "  'period': 1,\n",
       "  'str_label': 'fT2',\n",
       "  'label': HSLabel(tag='T2', isvalid=True),\n",
       "  'focus_name': 'Anthony, Nick',\n",
       "  'opp_name': 'Duong, Michelle',\n",
       "  'event_name': 'Testing'},\n",
       " {'time': '01:45',\n",
       "  'period': 1,\n",
       "  'str_label': 'fFall',\n",
       "  'label': HSLabel(tag='Fall', isvalid=True),\n",
       "  'focus_name': 'Anthony, Nick',\n",
       "  'opp_name': 'Duong, Michelle',\n",
       "  'event_name': 'Testing'})"
      ]
     },
     "execution_count": 12,
     "metadata": {},
     "output_type": "execute_result"
    }
   ],
   "source": [
    "ALLMATCHES[1000].to_dict(ts_only=True)"
   ]
  },
  {
   "cell_type": "code",
   "execution_count": 14,
   "metadata": {
    "ExecuteTime": {
     "end_time": "2020-07-24T15:42:31.021182Z",
     "start_time": "2020-07-24T15:42:31.017032Z"
    }
   },
   "outputs": [
    {
     "data": {
      "text/plain": [
       "{'binary': 'Win', 'method': 'Dec'}"
      ]
     },
     "execution_count": 14,
     "metadata": {},
     "output_type": "execute_result"
    }
   ],
   "source": [
    "ALLMATCHES[1000].to_dict(results_only=True)"
   ]
  },
  {
   "cell_type": "code",
   "execution_count": 15,
   "metadata": {
    "ExecuteTime": {
     "end_time": "2020-07-24T15:43:47.268734Z",
     "start_time": "2020-07-24T15:43:46.984972Z"
    }
   },
   "outputs": [],
   "source": [
    "del matches"
   ]
  },
  {
   "cell_type": "markdown",
   "metadata": {},
   "source": [
    "### Matches section done!"
   ]
  },
  {
   "cell_type": "markdown",
   "metadata": {},
   "source": [
    "Now we need to modularize these functions and assemble them in an order inside the Django project"
   ]
  }
 ],
 "metadata": {
  "hide_input": false,
  "kernelspec": {
   "display_name": "wrestling",
   "language": "python",
   "name": "wrestling"
  },
  "language_info": {
   "codemirror_mode": {
    "name": "ipython",
    "version": 3
   },
   "file_extension": ".py",
   "mimetype": "text/x-python",
   "name": "python",
   "nbconvert_exporter": "python",
   "pygments_lexer": "ipython3",
   "version": "3.8.3"
  },
  "toc": {
   "base_numbering": 1,
   "nav_menu": {},
   "number_sections": true,
   "sideBar": true,
   "skip_h1_title": false,
   "title_cell": "Table of Contents",
   "title_sidebar": "Contents",
   "toc_cell": false,
   "toc_position": {
    "height": "calc(100% - 180px)",
    "left": "10px",
    "top": "150px",
    "width": "172px"
   },
   "toc_section_display": true,
   "toc_window_display": false
  },
  "varInspector": {
   "cols": {
    "lenName": 16,
    "lenType": 16,
    "lenVar": 40
   },
   "kernels_config": {
    "python": {
     "delete_cmd_postfix": "",
     "delete_cmd_prefix": "del ",
     "library": "var_list.py",
     "varRefreshCmd": "print(var_dic_list())"
    },
    "r": {
     "delete_cmd_postfix": ") ",
     "delete_cmd_prefix": "rm(",
     "library": "var_list.r",
     "varRefreshCmd": "cat(var_dic_list()) "
    }
   },
   "types_to_exclude": [
    "module",
    "function",
    "builtin_function_or_method",
    "instance",
    "_Feature"
   ],
   "window_display": false
  }
 },
 "nbformat": 4,
 "nbformat_minor": 4
}
