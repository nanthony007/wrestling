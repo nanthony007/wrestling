{
 "cells": [
  {
   "cell_type": "code",
   "execution_count": 1,
   "metadata": {
    "ExecuteTime": {
     "end_time": "2020-07-24T18:01:57.729002Z",
     "start_time": "2020-07-24T18:01:57.266876Z"
    },
    "scrolled": true
   },
   "outputs": [],
   "source": [
    "import pickle\n",
    "from collections import Counter\n",
    "from datetime import time, datetime\n",
    "\n",
    "import re\n",
    "\n",
    "from tqdm import tqdm \n",
    "\n",
    "import attr\n",
    "import pandas as pd\n",
    "\n",
    "from typing import Dict, List\n",
    "\n",
    "from pprint import pprint\n",
    "\n",
    "import wrestling\n",
    "from wrestling.base import Mark"
   ]
  },
  {
   "cell_type": "code",
   "execution_count": 2,
   "metadata": {
    "ExecuteTime": {
     "end_time": "2020-07-24T18:02:01.873264Z",
     "start_time": "2020-07-24T18:02:00.192016Z"
    }
   },
   "outputs": [
    {
     "name": "stdout",
     "output_type": "stream",
     "text": [
      "815758\n"
     ]
    },
    {
     "data": {
      "text/plain": [
       "{'id': '1567603412:2019-2020:0:1576851265.755613:1567603412.1838334878321:2019-12-20 14:16:56 +0000',\n",
       " 'event_id': '1567603412:2019-2020:0:1576851265.755613',\n",
       " 'weight': '132',\n",
       " 'scoring_events': '1*11*0*T2*Green#2*0*0*R2*Red#2*30*0*P1*Red#2*50*0*N2*Red#5*17*0*R2*Green#5*17*0*P1*Green#5*48*0*P1*Red#6*9*0*E1*Red',\n",
       " 'winner': 1,\n",
       " 'result': 'Decision 7-5',\n",
       " 'red_wrestler': '1567603412.1838334878321#Ivy, Tre#(null)#Ada#(null)',\n",
       " 'green_wrestler': '(null)#Doe, John#(null)#Niceville#(null)#',\n",
       " 'our_wrestler': '1567603412.1838334878321',\n",
       " 'level': 'High School Boys'}"
      ]
     },
     "execution_count": 2,
     "metadata": {},
     "output_type": "execute_result"
    }
   ],
   "source": [
    "with open('all_matches.p', 'rb') as f:\n",
    "    loaded_matches = pickle.load(f)\n",
    "print(len(loaded_matches))\n",
    "\n",
    "# use single match and delete for space saving then try on all later\n",
    "match = loaded_matches[1000]\n",
    "\n",
    "del loaded_matches\n",
    "\n",
    "match"
   ]
  },
  {
   "cell_type": "code",
   "execution_count": 3,
   "metadata": {
    "ExecuteTime": {
     "end_time": "2020-07-24T18:02:02.879427Z",
     "start_time": "2020-07-24T18:02:02.842034Z"
    }
   },
   "outputs": [
    {
     "name": "stdout",
     "output_type": "stream",
     "text": [
      "55215\n"
     ]
    }
   ],
   "source": [
    "# request events\n",
    "with open('all_events.p', 'rb') as f:\n",
    "    events = pickle.load(f) \n",
    "print(len(events))"
   ]
  },
  {
   "cell_type": "code",
   "execution_count": 4,
   "metadata": {
    "ExecuteTime": {
     "end_time": "2020-07-24T18:02:11.643877Z",
     "start_time": "2020-07-24T18:02:11.602694Z"
    }
   },
   "outputs": [
    {
     "name": "stdout",
     "output_type": "stream",
     "text": [
      "69012\n"
     ]
    }
   ],
   "source": [
    "# request roster\n",
    "with open('all_rosters.p', 'rb') as f:\n",
    "    rosters = pickle.load(f)\n",
    "print(len(rosters))"
   ]
  },
  {
   "cell_type": "code",
   "execution_count": 35,
   "metadata": {
    "ExecuteTime": {
     "end_time": "2020-07-24T18:02:13.324963Z",
     "start_time": "2020-07-24T18:02:13.322354Z"
    }
   },
   "outputs": [],
   "source": [
    "def parse_date(match_id):\n",
    "    regex = r\"(\\d{4}-\\d{2}-\\d{2} (\\d{2}|\\d{1}):\\d{2}:\\d{2})\"\n",
    "    return datetime.strptime(re.search(regex, match_id).group(1), \"%Y-%m-%d %H:%M:%S\")"
   ]
  },
  {
   "cell_type": "code",
   "execution_count": 25,
   "metadata": {},
   "outputs": [
    {
     "data": {
      "text/plain": [
       "{'id': '1478210371:2019-2020:0:603416838.326829:1478210371.9999999999:2020-02-15 5:28:30 PM +0000',\n",
       " 'event_id': '1478210371:2019-2020:0:603416838.326829',\n",
       " 'weight': '106',\n",
       " 'scoring_events': '0*45*0*T2*Red#2*0*1*BOT*Red#2*31*1*E1*Red#4*1*2*BOT*Green#5*32*2*N3*Red#5*36*2*R2*Green#5*52*2*E1*Red',\n",
       " 'winner': 1,\n",
       " 'result': 'Decision 7-2',\n",
       " 'red_wrestler': '(null)#Dan Valeria#(null)#Woodstock Marian Centralknown#(null)#',\n",
       " 'green_wrestler': '1478210371.153787131#Husko, Colin#(null)#Wauconda#(null)',\n",
       " 'our_wrestler': '1478210371.153787131',\n",
       " 'level': 'High School Boys'}"
      ]
     },
     "execution_count": 25,
     "metadata": {},
     "output_type": "execute_result"
    }
   ],
   "source": [
    "loaded_matches[760589]"
   ]
  },
  {
   "cell_type": "code",
   "execution_count": 6,
   "metadata": {
    "ExecuteTime": {
     "end_time": "2020-07-24T18:02:14.217258Z",
     "start_time": "2020-07-24T18:02:14.209367Z"
    }
   },
   "outputs": [],
   "source": [
    "def get_focus(match):\n",
    "    red = match[\"red_wrestler\"]\n",
    "    green = match[\"green_wrestler\"]\n",
    "    if red.startswith(match['our_wrestler']):\n",
    "        return \"red\"\n",
    "    elif green.startswith(match['our_wrestler']):\n",
    "        return \"green\"\n",
    "    else:\n",
    "        # this is a problem\n",
    "        #print(f'focus color, exected \"red\" or \"green\", got {red!r} and {green!r}')\n",
    "        return None\n",
    "    \n",
    "def parse_name(wrestler_string) -> str:\n",
    "    regex_search = r\"#(.*?)#\"\n",
    "    # Not flipped to maintain format across platform\n",
    "    name = re.findall(regex_search, wrestler_string)[0].split(\",\")\n",
    "    if len(name) > 1:\n",
    "        if name[0].strip() == 'Forfeit':\n",
    "            return \"Forfeit,\"\n",
    "        return f\"{name[0].strip()}, {name[1].strip()}\".title()\n",
    "    elif len(n := name[0].split()) > 1:\n",
    "        return f\"{n[1].strip()}, {n[0].strip()}\".title()\n",
    "    else:\n",
    "        return name[0].strip().title()  #'Forfeit'\n",
    "\n",
    "def parse_team(wrestler_string) -> str:\n",
    "    regex_search = r\"#(.*?)#\"\n",
    "    team = re.findall(regex_search, wrestler_string)[1]\n",
    "    if \"(\" in team:\n",
    "        return team.split(\"(\")[0].title()\n",
    "    return team.title()"
   ]
  },
  {
   "cell_type": "code",
   "execution_count": 7,
   "metadata": {
    "ExecuteTime": {
     "end_time": "2020-07-24T18:02:16.211125Z",
     "start_time": "2020-07-24T18:02:16.204398Z"
    }
   },
   "outputs": [],
   "source": [
    "def create_focus_wrestler(wrestler_str: str, wrestler_list: List[Dict]):\n",
    "    wrestler_name = parse_name(wrestler_str)\n",
    "    # find wrestler in wrestler_list\n",
    "    # default to wrestler string\n",
    "    raw_wrestler = next((w for w in wrestler_list if w['name'].replace(' , ', ', ').strip().title() == wrestler_name), wrestler_name)\n",
    "    # create wrestler\n",
    "    wrestler = wrestling.Wrestler(\n",
    "        name=wrestler_name,\n",
    "        team=parse_team(wrestler_str),\n",
    "        # if not dict type then no grade (will default to Fr.)\n",
    "        grade=wrestling.Mark(raw_wrestler['grade']) if isinstance(raw_wrestler, dict) else None,\n",
    "    )\n",
    "    return wrestler\n",
    "\n",
    "\n",
    "def create_opponent_wrestler(wrestler_str: str):\n",
    "    # create wrestler\n",
    "    wrestler = wrestling.Wrestler(\n",
    "        name=parse_name(wrestler_str),\n",
    "        team=parse_team(wrestler_str),\n",
    "    )\n",
    "    return wrestler"
   ]
  },
  {
   "cell_type": "code",
   "execution_count": 8,
   "metadata": {
    "ExecuteTime": {
     "end_time": "2020-07-24T18:02:14.706631Z",
     "start_time": "2020-07-24T18:02:14.697827Z"
    }
   },
   "outputs": [],
   "source": [
    "def parse_api_scoring_events(event_string):\n",
    "    main_list = []\n",
    "    for action in event_string.split('#'):\n",
    "        if len(action.split('*')) == 1 or action == '****':\n",
    "            continue\n",
    "        A = action.split('*')\n",
    "        if not A[0].isdigit() or int(A[0]) not in range(0, 60):\n",
    "            minute = 0\n",
    "        else:\n",
    "            minute = int(A[0])\n",
    "        if not A[1].isdigit() or int(A[1]) not in range(0, 60):\n",
    "            second = 0\n",
    "        else:\n",
    "            second = int(A[1])\n",
    "        period = int(A[2]) + 1 if A[2] else 0\n",
    "        label = A[3]\n",
    "        color = A[4].lower() if A[4] in {'Red', 'Green'} else 'green'\n",
    "        main_list.append((minute, second, period, label, color))\n",
    "    return tuple(main_list)"
   ]
  },
  {
   "cell_type": "code",
   "execution_count": 9,
   "metadata": {
    "ExecuteTime": {
     "end_time": "2020-07-24T18:02:15.164152Z",
     "start_time": "2020-07-24T18:02:15.158386Z"
    }
   },
   "outputs": [],
   "source": [
    "def create_hs_scoring(event_string, focus):\n",
    "    ts_gen = parse_api_scoring_events(event_string)\n",
    "    temp = []\n",
    "    for action in ts_gen:\n",
    "        sc = wrestling.HSScoring(\n",
    "            initiator=action[4],\n",
    "            focus_color=focus,\n",
    "            period=action[2],\n",
    "            time_stamp=time(minute=action[0], second=action[1]),\n",
    "            label=wrestling.HSLabel(action[3]),\n",
    "        )\n",
    "        temp.append(sc)\n",
    "    return tuple(sorted(temp))\n",
    "    \n",
    "    \n",
    "def create_college_scoring(event_string, focus):\n",
    "    ts_gen = parse_api_scoring_events(event_string)\n",
    "    temp = []\n",
    "    for action in ts_gen:\n",
    "        sc = wrestling.CollegeScoring(\n",
    "            initiator=action[4],\n",
    "            focus_color=focus,\n",
    "            period=action[2],\n",
    "            time_stamp=time(minute=action[0], second=action[1]),\n",
    "            label=wrestling.CollegeLabel(action[3]),\n",
    "        )\n",
    "        temp.append(sc)\n",
    "    return tuple(sorted(temp))"
   ]
  },
  {
   "cell_type": "code",
   "execution_count": 10,
   "metadata": {
    "ExecuteTime": {
     "end_time": "2020-07-24T18:02:15.671160Z",
     "start_time": "2020-07-24T18:02:15.665174Z"
    }
   },
   "outputs": [],
   "source": [
    "def create_event(event_id, event_list):\n",
    "    # find event_id in event_list\n",
    "    raw_event = next((e for e in event_list if e[\"id\"] == event_id), None)\n",
    "    # if event exists create it, otherwise create default\n",
    "    if raw_event:\n",
    "        event = wrestling.Event(\n",
    "            name=raw_event['name'],\n",
    "            kind=wrestling.Mark(raw_event['kind']),\n",
    "        )\n",
    "        return event\n",
    "    else:\n",
    "        default = wrestling.Event(\n",
    "            name='Default Event',  # or leave empty and will be set to Generic Event by converter\n",
    "            kind=wrestling.Mark('Tournament'),\n",
    "        )\n",
    "        return default"
   ]
  },
  {
   "cell_type": "code",
   "execution_count": 11,
   "metadata": {
    "ExecuteTime": {
     "end_time": "2020-07-24T18:15:45.207883Z",
     "start_time": "2020-07-24T18:15:45.203151Z"
    }
   },
   "outputs": [],
   "source": [
    "def parse_result(match):\n",
    "    method = match['result']\n",
    "    if method.startswith('Tech'):\n",
    "        second = 'T'\n",
    "    elif method.startswith('Fall'):\n",
    "        second = 'F'\n",
    "    elif method.startswith('Maj'):\n",
    "        second = 'M'\n",
    "    elif method.startswith('Dec'):\n",
    "        second = 'D'\n",
    "    else:\n",
    "        return 'NC'\n",
    "        \n",
    "    binary = match['winner']\n",
    "    if binary == 0:\n",
    "        first = 'L'\n",
    "    elif binary == 1:\n",
    "        first = 'W'\n",
    "    else:\n",
    "        raise ValueError(f\"unexpected winner{match['winner']}\")\n",
    "    return f\"{first}{second}\""
   ]
  },
  {
   "cell_type": "code",
   "execution_count": 12,
   "metadata": {
    "ExecuteTime": {
     "end_time": "2020-07-24T18:02:17.095717Z",
     "start_time": "2020-07-24T18:02:17.085325Z"
    }
   },
   "outputs": [],
   "source": [
    "def create_college_match(match: Dict, event_list: List[Dict], wrestler_list: List[Dict]):\n",
    "    # call parsers and then creators\n",
    "    # this is the final function\n",
    "    # we only directly call this for each match :)\n",
    "    F = get_focus(match)\n",
    "    if F:\n",
    "        m = wrestling.CollegeMatch(\n",
    "            id=match['id'],\n",
    "            event=create_event(match['event_id'], event_list),\n",
    "            date=parse_date(match['id']),\n",
    "            result=wrestling.Result[parse_result(match)],\n",
    "            focus=create_focus_wrestler(match['green_wrestler'] if F == 'green' else match['red_wrestler'], wrestler_list),\n",
    "            opponent=create_opponent_wrestler(match['green_wrestler'] if F == 'red' else match['red_wrestler']),\n",
    "            weight=wrestling.Mark(match['weight']),\n",
    "            time_series=create_college_scoring(match['scoring_events'], F),\n",
    "        )\n",
    "        return m\n",
    "\n",
    "\n",
    "def create_hs_match(match: Dict, event_list: List[Dict], wrestler_list: List[Dict]):\n",
    "    # call parsers and then creators\n",
    "    # this is the final function\n",
    "    # we only directly call this for each match :)\n",
    "    F = get_focus(match)\n",
    "    if F:\n",
    "        m = wrestling.HSMatch(\n",
    "            id=match['id'],\n",
    "            event=create_event(match['event_id'], event_list),\n",
    "            date=parse_date(match['id']),\n",
    "            result=wrestling.Result[parse_result(match)],\n",
    "            focus=create_focus_wrestler(match['green_wrestler'] if F == 'green' else match['red_wrestler'], wrestler_list),\n",
    "            opponent=create_opponent_wrestler(match['green_wrestler'] if F == 'red' else match['red_wrestler']),\n",
    "            weight=wrestling.Mark(match['weight']),\n",
    "            time_series=create_hs_scoring(match['scoring_events'], F),\n",
    "        )\n",
    "        return m"
   ]
  },
  {
   "cell_type": "code",
   "execution_count": 23,
   "metadata": {
    "scrolled": true
   },
   "outputs": [
    {
     "name": "stdout",
     "output_type": "stream",
     "text": [
      "815758\n"
     ]
    }
   ],
   "source": [
    "with open('all_matches.p', 'rb') as f:\n",
    "    loaded_matches = pickle.load(f)\n",
    "print(len(loaded_matches))"
   ]
  },
  {
   "cell_type": "code",
   "execution_count": 37,
   "metadata": {
    "scrolled": true
   },
   "outputs": [
    {
     "name": "stderr",
     "output_type": "stream",
     "text": [
      "100%|██████████| 55169/55169 [18:25<00:00, 49.89it/s] \n"
     ]
    }
   ],
   "source": [
    "ALLMATCHES = []\n",
    "for match in tqdm(loaded_matches):\n",
    "    if match['level'].startswith('High School'):\n",
    "        # HS stuff\n",
    "        m = create_hs_match(match, events, rosters)\n",
    "        if m:\n",
    "            ALLMATCHES.append(m)\n",
    "    elif match['level'].startswith('College'):\n",
    "        # college stuff\n",
    "        m = create_college_match(match, events, rosters)\n",
    "        if m:\n",
    "            ALLMATCHES.append(m)\n",
    "    else:\n",
    "        pass\n",
    "        \n"
   ]
  },
  {
   "cell_type": "code",
   "execution_count": 38,
   "metadata": {},
   "outputs": [],
   "source": [
    "del loaded_matches"
   ]
  },
  {
   "cell_type": "code",
   "execution_count": 17,
   "metadata": {
    "scrolled": true
   },
   "outputs": [
    {
     "data": {
      "text/plain": [
       "'Percent Matches w/ invalid tags: 35.0%'"
      ]
     },
     "execution_count": 17,
     "metadata": {},
     "output_type": "execute_result"
    }
   ],
   "source": [
    "invalid = list(filter(lambda x: x.isvalid is False, ALLMATCHES))\n",
    "\n",
    "valid = list(filter(lambda x: x.isvalid, ALLMATCHES))\n",
    "\n",
    "f\"Percent Matches w/ invalid tags: {round((len(invalid) / (len(invalid + valid))) * 100, 2)}%\""
   ]
  },
  {
   "cell_type": "code",
   "execution_count": 21,
   "metadata": {},
   "outputs": [
    {
     "name": "stderr",
     "output_type": "stream",
     "text": [
      "100%|██████████| 749785/749785 [00:01<00:00, 488058.62it/s]"
     ]
    },
    {
     "name": "stdout",
     "output_type": "stream",
     "text": [
      "Valid Marks: 6345086\n",
      "Invalid Marks: 317325\n"
     ]
    },
    {
     "name": "stderr",
     "output_type": "stream",
     "text": [
      "\n"
     ]
    },
    {
     "data": {
      "text/plain": [
       "'Percent invalid Marks: 4.76'"
      ]
     },
     "execution_count": 21,
     "metadata": {},
     "output_type": "execute_result"
    }
   ],
   "source": [
    "valid_count = 0\n",
    "invalid_count = 1\n",
    "\n",
    "for m in tqdm(ALLMATCHES):\n",
    "    # match attrs\n",
    "    if isinstance(m._weight, wrestling.Mark):\n",
    "        if not m._weight.isvalid:\n",
    "            invalid_count += 1\n",
    "        else:\n",
    "            valid_count += 1\n",
    "    # ts attrs\n",
    "    for score in m.time_series:\n",
    "        if score.label.isvalid:\n",
    "            valid_count += 1\n",
    "        elif not score.label.isvalid:\n",
    "            invalid_count += 1\n",
    "    # event attrs\n",
    "    if isinstance(m.event._kind, wrestling.Mark):\n",
    "        if not m.event._kind.isvalid:\n",
    "            invalid_count += 1\n",
    "        else:\n",
    "            valid_count += 1\n",
    "    # wrestler attrs\n",
    "    if isinstance(m.focus._grade, wrestling.Mark):\n",
    "        if not m.focus._grade.isvalid:\n",
    "            invalid_count += 1\n",
    "        else:\n",
    "            valid_count += 1\n",
    "    if isinstance(m.opponent._grade, wrestling.Mark):\n",
    "        if not m.opponent._grade.isvalid:\n",
    "            invalid_count += 1\n",
    "        else:\n",
    "            valid_count += 1\n",
    "\n",
    "        \n",
    "\n",
    "print(f\"Valid Marks: {valid_count}\")\n",
    "print(f\"Invalid Marks: {invalid_count}\")\n",
    "f\"Percent invalid Marks: {round(invalid_count / (valid_count + invalid_count) * 100, 2)}\""
   ]
  },
  {
   "cell_type": "code",
   "execution_count": 40,
   "metadata": {},
   "outputs": [
    {
     "data": {
      "text/plain": [
       "5.005241753999144"
      ]
     },
     "execution_count": 40,
     "metadata": {},
     "output_type": "execute_result"
    }
   ],
   "source": [
    "import time\n",
    "start = time.perf_counter()\n",
    "time.sleep(5)\n",
    "stop = time.perf_counter()\n",
    "stop - start"
   ]
  },
  {
   "cell_type": "code",
   "execution_count": null,
   "metadata": {},
   "outputs": [],
   "source": []
  }
 ],
 "metadata": {
  "hide_input": false,
  "kernelspec": {
   "display_name": "wrestling",
   "language": "python",
   "name": "wrestling"
  },
  "language_info": {
   "codemirror_mode": {
    "name": "ipython",
    "version": 3
   },
   "file_extension": ".py",
   "mimetype": "text/x-python",
   "name": "python",
   "nbconvert_exporter": "python",
   "pygments_lexer": "ipython3",
   "version": "3.8.3"
  },
  "toc": {
   "base_numbering": 1,
   "nav_menu": {},
   "number_sections": true,
   "sideBar": true,
   "skip_h1_title": false,
   "title_cell": "Table of Contents",
   "title_sidebar": "Contents",
   "toc_cell": false,
   "toc_position": {},
   "toc_section_display": true,
   "toc_window_display": false
  },
  "varInspector": {
   "cols": {
    "lenName": 16,
    "lenType": 16,
    "lenVar": 40
   },
   "kernels_config": {
    "python": {
     "delete_cmd_postfix": "",
     "delete_cmd_prefix": "del ",
     "library": "var_list.py",
     "varRefreshCmd": "print(var_dic_list())"
    },
    "r": {
     "delete_cmd_postfix": ") ",
     "delete_cmd_prefix": "rm(",
     "library": "var_list.r",
     "varRefreshCmd": "cat(var_dic_list()) "
    }
   },
   "types_to_exclude": [
    "module",
    "function",
    "builtin_function_or_method",
    "instance",
    "_Feature"
   ],
   "window_display": false
  }
 },
 "nbformat": 4,
 "nbformat_minor": 4
}
