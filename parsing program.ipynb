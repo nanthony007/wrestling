{
 "cells": [
  {
   "cell_type": "code",
   "execution_count": 1,
   "metadata": {
    "ExecuteTime": {
     "end_time": "2020-07-24T18:01:57.729002Z",
     "start_time": "2020-07-24T18:01:57.266876Z"
    }
   },
   "outputs": [],
   "source": [
    "import pickle\n",
    "from collections import Counter\n",
    "from datetime import time, datetime\n",
    "\n",
    "from tqdm import tqdm \n",
    "\n",
    "import attr\n",
    "import pandas as pd\n",
    "\n",
    "from typing import Dict, List\n",
    "\n",
    "from pprint import pprint\n",
    "\n",
    "import wrestling\n",
    "from wrestling.base import Mark"
   ]
  },
  {
   "cell_type": "code",
   "execution_count": 2,
   "metadata": {
    "ExecuteTime": {
     "end_time": "2020-07-24T18:02:01.873264Z",
     "start_time": "2020-07-24T18:02:00.192016Z"
    }
   },
   "outputs": [
    {
     "name": "stdout",
     "output_type": "stream",
     "text": [
      "815758\n"
     ]
    },
    {
     "data": {
      "text/plain": [
       "{'id': '1567603412:2019-2020:0:1576851265.755613:1567603412.1838334878321:2019-12-20 14:16:56 +0000',\n",
       " 'date': '2019-12-20',\n",
       " 'weight': '132',\n",
       " 'scoring_events': '1*11*0*T2*Green#2*0*0*R2*Red#2*30*0*P1*Red#2*50*0*N2*Red#5*17*0*R2*Green#5*17*0*P1*Green#5*48*0*P1*Red#6*9*0*E1*Red',\n",
       " 'winner': 1,\n",
       " 'result': 'Decision 7-5',\n",
       " 'red_wrestler': '1567603412.1838334878321#Ivy, Tre#(null)#Ada#(null)',\n",
       " 'green_wrestler': '(null)#Doe, John#(null)#Niceville#(null)#',\n",
       " 'level': 'High School Boys'}"
      ]
     },
     "execution_count": 2,
     "metadata": {},
     "output_type": "execute_result"
    }
   ],
   "source": [
    "with open('all_matches.p', 'rb') as f:\n",
    "    loaded_matches = pickle.load(f)\n",
    "print(len(loaded_matches))\n",
    "\n",
    "# use single match and delete for space saving then try on all later\n",
    "match = loaded_matches[1000]\n",
    "\n",
    "del loaded_matches\n",
    "\n",
    "match"
   ]
  },
  {
   "cell_type": "code",
   "execution_count": 3,
   "metadata": {
    "ExecuteTime": {
     "end_time": "2020-07-24T18:02:02.879427Z",
     "start_time": "2020-07-24T18:02:02.842034Z"
    }
   },
   "outputs": [
    {
     "name": "stdout",
     "output_type": "stream",
     "text": [
      "55215\n"
     ]
    }
   ],
   "source": [
    "# request events\n",
    "with open('all_events.p', 'rb') as f:\n",
    "    events = pickle.load(f) \n",
    "print(len(events))"
   ]
  },
  {
   "cell_type": "code",
   "execution_count": 5,
   "metadata": {
    "ExecuteTime": {
     "end_time": "2020-07-24T18:02:11.643877Z",
     "start_time": "2020-07-24T18:02:11.602694Z"
    }
   },
   "outputs": [
    {
     "name": "stdout",
     "output_type": "stream",
     "text": [
      "69012\n"
     ]
    }
   ],
   "source": [
    "# request roster\n",
    "with open('all_rosters.p', 'rb') as f:\n",
    "    rosters = pickle.load(f)\n",
    "print(len(rosters))"
   ]
  },
  {
   "cell_type": "code",
   "execution_count": 6,
   "metadata": {
    "ExecuteTime": {
     "end_time": "2020-07-24T18:02:13.324963Z",
     "start_time": "2020-07-24T18:02:13.322354Z"
    }
   },
   "outputs": [],
   "source": [
    "def parse_date(match_id):\n",
    "    regex = r\"(\\d{4}-\\d{2}-\\d{2} \\d{2}:\\d{2}:\\d{2})\"\n",
    "    return datetime.strptime(re.search(regex, match_id).group(1), \"%Y-%m-%d %H:%M:%S\")"
   ]
  },
  {
   "cell_type": "code",
   "execution_count": 7,
   "metadata": {
    "ExecuteTime": {
     "end_time": "2020-07-24T18:02:14.217258Z",
     "start_time": "2020-07-24T18:02:14.209367Z"
    }
   },
   "outputs": [],
   "source": [
    "def get_focus(match):\n",
    "    red = match[\"red_wrestler\"]\n",
    "    green = match[\"green_wrestler\"]\n",
    "    if red.startswith(match['our_wrestler']):\n",
    "        return \"red\"\n",
    "    elif green.startswith(match['our_wrestler']):\n",
    "        return \"green\"\n",
    "    else:\n",
    "        # this is a problem\n",
    "        pass\n",
    "    \n",
    "def parse_name(wrestler_string) -> str:\n",
    "    regex_search = r\"#(.*?)#\"\n",
    "    # Not flipped to maintain format across platform\n",
    "    name = re.findall(regex_search, wrestler_string)[0].split(\",\")\n",
    "    return f\"{name[0].strip()}, {name[1].strip()}\" if len(name) > 1 else None\n",
    "\n",
    "\n",
    "def parse_team(wrestler_string) -> str:\n",
    "    regex_search = r\"#(.*?)#\"\n",
    "    team = re.findall(regex_search, wrestler_string)[1]\n",
    "    if \"(\" in team:\n",
    "        return team.split(\"(\")[0]\n",
    "    return team"
   ]
  },
  {
   "cell_type": "code",
   "execution_count": 11,
   "metadata": {
    "ExecuteTime": {
     "end_time": "2020-07-24T18:02:16.211125Z",
     "start_time": "2020-07-24T18:02:16.204398Z"
    }
   },
   "outputs": [],
   "source": [
    "def create_focus_wrestler(wrestler_str: str, wrestler_list: List[Dict]):\n",
    "    wrestler_name = parse_name(wrestler_str)\n",
    "    # find wrestler in wrestler_list\n",
    "    # no default because wrestler MUST be found\n",
    "    raw_wrestler = next(w for w in wrestler_list if w[\"name\"] == wrestler_name)\n",
    "    # create wrestler\n",
    "    wrestler = wrestling.Wrestler(\n",
    "        name=wrestler_name,\n",
    "        team=parse_team(wrestler_str),\n",
    "        grade=wrestling.Mark(wrestler['grade'])\n",
    "    )\n",
    "    return wrestler\n",
    "\n",
    "\n",
    "def create_opponent_wrestler(wrestler_str: str):\n",
    "    # create wrestler\n",
    "    wrestler = wrestling.Wrestler(\n",
    "        name=parse_name(wrestler_str),\n",
    "        team=parse_team(wrestler_str),\n",
    "    )\n",
    "    return wrestler"
   ]
  },
  {
   "cell_type": "code",
   "execution_count": 8,
   "metadata": {
    "ExecuteTime": {
     "end_time": "2020-07-24T18:02:14.706631Z",
     "start_time": "2020-07-24T18:02:14.697827Z"
    }
   },
   "outputs": [],
   "source": [
    "def parse_api_scoring_events(event_string):\n",
    "    main_list = []\n",
    "    for action in event_string.split('#'):\n",
    "        if len(action.split('*')) == 1 or action == '****':\n",
    "            continue\n",
    "        A = action.split('*')\n",
    "        if not A[0].isdigit() or int(A[0]) not in range(0, 60):\n",
    "            minute = 0\n",
    "        else:\n",
    "            minute = int(A[0])\n",
    "        if not A[1].isdigit() or int(A[1]) not in range(0, 60):\n",
    "            second = 0\n",
    "        else:\n",
    "            second = int(A[1])\n",
    "        period = int(A[2]) + 1 if A[2] else 0\n",
    "        label = A[3]\n",
    "        color = A[4].lower() if A[4] in {'Red', 'Green'} else 'green'\n",
    "        main_list.append((minute, second, period, label, color))\n",
    "    return tuple(main_list)"
   ]
  },
  {
   "cell_type": "code",
   "execution_count": 9,
   "metadata": {
    "ExecuteTime": {
     "end_time": "2020-07-24T18:02:15.164152Z",
     "start_time": "2020-07-24T18:02:15.158386Z"
    }
   },
   "outputs": [],
   "source": [
    "def create_hs_scoring(event_string):\n",
    "    ts_gen = parse_api_scoring_events(event_string)\n",
    "    temp = []\n",
    "    for action in ts_gen:\n",
    "        sc = wrestling.HSScoring(\n",
    "            initiator=action[4],\n",
    "            focus_color=focus,\n",
    "            period=action[2],\n",
    "            time_stamp=time(minute=action[0], second=action[1]),\n",
    "            label=wrestling.HSLabel(action[3]),\n",
    "        )\n",
    "        temp.append(sc)\n",
    "    return tuple(sorted(temp))\n",
    "    \n",
    "    \n",
    "def create_college_scoring(event_string):\n",
    "    ts_gen = parse_api_scoring_events(event_string)\n",
    "    temp = []\n",
    "    for action in ts_gen:\n",
    "        sc = wrestling.CollegeScoring(\n",
    "            initiator=action[4],\n",
    "            focus_color=focus,\n",
    "            period=action[2],\n",
    "            time_stamp=time(minute=action[0], second=action[1]),\n",
    "            label=wrestling.CollegeLabel(action[3]),\n",
    "        )\n",
    "        temp.append(sc)\n",
    "    return tuple(sorted(temp))"
   ]
  },
  {
   "cell_type": "code",
   "execution_count": 10,
   "metadata": {
    "ExecuteTime": {
     "end_time": "2020-07-24T18:02:15.671160Z",
     "start_time": "2020-07-24T18:02:15.665174Z"
    }
   },
   "outputs": [],
   "source": [
    "def create_event(event_id, event_list):\n",
    "    # find event_id in event_list\n",
    "    raw_event = next((e for e in event_list if e[\"id\"] == event_id), None)\n",
    "    # if event exists create it, otherwise create default\n",
    "    if raw_event:\n",
    "        event = wrestling.Event(\n",
    "            name=raw_event['name'],\n",
    "            kind=wrestling.Mark(raw_event['kind']),\n",
    "        )\n",
    "        return event\n",
    "    else:\n",
    "        default = wrestling.Event(\n",
    "            name='Default Event',  # or leave empty and will be set to Generic Event by converter\n",
    "            kind=wrestling.Mark('Tournament'),\n",
    "        )\n",
    "        return default"
   ]
  },
  {
   "cell_type": "code",
   "execution_count": 13,
   "metadata": {
    "ExecuteTime": {
     "end_time": "2020-07-24T18:15:45.207883Z",
     "start_time": "2020-07-24T18:15:45.203151Z"
    }
   },
   "outputs": [],
   "source": [
    "def parse_result(match):\n",
    "    method = match['result']\n",
    "    if method.startswith('Tech'):\n",
    "        second = 'T'\n",
    "    elif method.startswith('Fall'):\n",
    "        second = 'F'\n",
    "    elif method.startswith('Maj'):\n",
    "        second = 'M'\n",
    "    elif method.startswith('Dec'):\n",
    "        second = 'D'\n",
    "    else:\n",
    "        return 'NC'\n",
    "        \n",
    "    binary = match['winner']\n",
    "    if binary == 0:\n",
    "        first = 'L'\n",
    "    elif binary == 1:\n",
    "        first = 'W'\n",
    "    else:\n",
    "        raise ValueError(f\"unexpected winner{match['winner']}\")\n",
    "    return f\"{first}{second}\""
   ]
  },
  {
   "cell_type": "code",
   "execution_count": 12,
   "metadata": {
    "ExecuteTime": {
     "end_time": "2020-07-24T18:02:17.095717Z",
     "start_time": "2020-07-24T18:02:17.085325Z"
    }
   },
   "outputs": [],
   "source": [
    "def create_college_match(match: Dict, event_list: List[Dict], wrestler_list: List[Dict]):\n",
    "    # call parsers and then creators\n",
    "    # this is the final function\n",
    "    # we only directly call this for each match :)\n",
    "    F = get_focus(match)\n",
    "    m = wrestling.CollegeMatch(\n",
    "        id=match['id'],\n",
    "        event=create_event(match['event_id'], event_list),\n",
    "        date=parse_date(match['id']),\n",
    "        result=wrestling.Result.LT,  # parse result function needed!\n",
    "        focus=create_focus_wrestler(match['green_wrestler'] if F == 'green' else match['red_wrestler']),\n",
    "        opponent=create_opponent_wrestler(match['green_wrestler'] if F == 'red' else match['red_wrestler']),\n",
    "        weight=wrestling.Mark(match['weight']),\n",
    "        time_series=create_college_scoring(match['scoring_events']),\n",
    "    )\n",
    "    return m\n",
    "\n",
    "\n",
    "def create_hs_match(match_dict):\n",
    "    # call parsers and then creators\n",
    "    # this is the final function\n",
    "    # we only directly call this for each match :)\n",
    "    F = get_focus(match)\n",
    "    m = wrestling.HSMatch(\n",
    "        id=match['id'],\n",
    "        event=create_event(match['event_id'], event_list),\n",
    "        date=parse_date(match['id']),\n",
    "        result=wrestling.Result.LT,  # parse result function needed!\n",
    "        focus=create_focus_wrestler(match['green_wrestler'] if F == 'green' else match['red_wrestler']),\n",
    "        opponent=create_opponent_wrestler(match['green_wrestler'] if F == 'red' else match['red_wrestler']),\n",
    "        weight=wrestling.Mark(match['weight']),\n",
    "        time_series=create_hs_scoring(match['scoring_events']),\n",
    "    )\n",
    "    return m"
   ]
  },
  {
   "cell_type": "code",
   "execution_count": null,
   "metadata": {},
   "outputs": [],
   "source": []
  }
 ],
 "metadata": {
  "hide_input": false,
  "kernelspec": {
   "display_name": "wrestling",
   "language": "python",
   "name": "wrestling"
  },
  "language_info": {
   "codemirror_mode": {
    "name": "ipython",
    "version": 3
   },
   "file_extension": ".py",
   "mimetype": "text/x-python",
   "name": "python",
   "nbconvert_exporter": "python",
   "pygments_lexer": "ipython3",
   "version": "3.8.3"
  },
  "toc": {
   "base_numbering": 1,
   "nav_menu": {},
   "number_sections": true,
   "sideBar": true,
   "skip_h1_title": false,
   "title_cell": "Table of Contents",
   "title_sidebar": "Contents",
   "toc_cell": false,
   "toc_position": {},
   "toc_section_display": true,
   "toc_window_display": false
  },
  "varInspector": {
   "cols": {
    "lenName": 16,
    "lenType": 16,
    "lenVar": 40
   },
   "kernels_config": {
    "python": {
     "delete_cmd_postfix": "",
     "delete_cmd_prefix": "del ",
     "library": "var_list.py",
     "varRefreshCmd": "print(var_dic_list())"
    },
    "r": {
     "delete_cmd_postfix": ") ",
     "delete_cmd_prefix": "rm(",
     "library": "var_list.r",
     "varRefreshCmd": "cat(var_dic_list()) "
    }
   },
   "types_to_exclude": [
    "module",
    "function",
    "builtin_function_or_method",
    "instance",
    "_Feature"
   ],
   "window_display": false
  }
 },
 "nbformat": 4,
 "nbformat_minor": 4
}
